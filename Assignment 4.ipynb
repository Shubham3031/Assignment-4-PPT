{
 "cells": [
  {
   "cell_type": "code",
   "execution_count": 1,
   "id": "3d4dcf5e-03e4-48f3-a5e3-594723acc5bf",
   "metadata": {},
   "outputs": [
    {
     "name": "stdout",
     "output_type": "stream",
     "text": [
      "[1, 5]\n"
     ]
    }
   ],
   "source": [
    "# 1.Ans.\n",
    "\n",
    "def allThree(arr1,arr2,arr3):\n",
    "    pointer1,pointer2,pointer3=0,0,0\n",
    "    ans=[]\n",
    "    \n",
    "    while pointer1<len(arr1) and pointer2<len(arr2) and pointer3<len(arr3):\n",
    "        if arr1[pointer1]==arr2[pointer2]==arr3[pointer3]:\n",
    "            ans.append(arr1[pointer1])\n",
    "            pointer1+=1\n",
    "            pointer2+=1\n",
    "            pointer3+=1\n",
    "        elif arr1[pointer1]<arr2[pointer2]:\n",
    "            pointer1+=1\n",
    "        elif arr2[pointer2]<arr2[pointer3]:\n",
    "            pointer2+=1\n",
    "        else:\n",
    "            pointer3+=1\n",
    "    return ans\n",
    "\n",
    "arr1 = [1,2,3,4,5]\n",
    "arr2 = [1,2,5,7,9]\n",
    "arr3 = [1,3,4,5,8]\n",
    "\n",
    "print(allThree(arr1,arr2,arr3))\n",
    "\n",
    "    \n",
    "    "
   ]
  },
  {
   "cell_type": "code",
   "execution_count": 2,
   "id": "10f365de-62ba-4d1d-8cc9-33c9ca9ac8cc",
   "metadata": {},
   "outputs": [
    {
     "name": "stdout",
     "output_type": "stream",
     "text": [
      "[[1, 3], [4, 6]]\n"
     ]
    }
   ],
   "source": [
    "# 2.Ans.\n",
    "\n",
    "def indexedInteger(nums1,nums2):\n",
    "    set1 = set(nums1)\n",
    "    set2 = set(nums2)\n",
    "    \n",
    "    a = list(set1-set2)\n",
    "    b = list(set2-set1)\n",
    "    \n",
    "    return [a,b]\n",
    "\n",
    "nums1 = [1,2,3]\n",
    "nums2 = [2,4,6]\n",
    "\n",
    "print(indexedInteger(nums1,nums2))\n",
    "\n"
   ]
  },
  {
   "cell_type": "code",
   "execution_count": 15,
   "id": "d0bf5f3a-d9bb-4c2d-bd7a-c4d3631792cc",
   "metadata": {},
   "outputs": [
    {
     "name": "stdout",
     "output_type": "stream",
     "text": [
      "[[1, 4, 7], [2, 5, 8], [3, 6, 9]]\n"
     ]
    }
   ],
   "source": [
    "# 3.Ans.\n",
    "\n",
    "def transpose_matrix(matrix):\n",
    "    rows = len(matrix)\n",
    "    columns = len(matrix[0])\n",
    "    \n",
    "    transpose = [[0] * rows for _ in range(columns)]\n",
    "    \n",
    "    for i in range(rows):\n",
    "        for j in range(columns):\n",
    "            transpose[j][i] = matrix[i][j]\n",
    "    \n",
    "    return transpose\n",
    "\n",
    "\n",
    "matrix = [[1,2,3],[4,5,6],[7,8,9]]\n",
    "print(transpose_matrix(matrix))\n",
    "            \n",
    "            "
   ]
  },
  {
   "cell_type": "code",
   "execution_count": 16,
   "id": "3e4bab4a-be35-4c60-99d7-ea7db6d09cdb",
   "metadata": {},
   "outputs": [
    {
     "name": "stdout",
     "output_type": "stream",
     "text": [
      "4\n"
     ]
    }
   ],
   "source": [
    "# 4.Ans.\n",
    "\n",
    "def maximizedSum(nums):\n",
    "    nums.sort()\n",
    "    max_sum=0\n",
    "    for i in range(0,len(nums),2):\n",
    "        max_sum+=nums[i]\n",
    "    return max_sum\n",
    "\n",
    "nums=[1,4,3,2]\n",
    "print(maximizedSum(nums))\n",
    "    \n",
    "    \n",
    "    "
   ]
  },
  {
   "cell_type": "code",
   "execution_count": 17,
   "id": "a328ea1e-8967-4d25-91b9-b6caf3301da7",
   "metadata": {},
   "outputs": [
    {
     "name": "stdout",
     "output_type": "stream",
     "text": [
      "2\n"
     ]
    }
   ],
   "source": [
    "# 5.Ans.\n",
    "\n",
    "def completeRows(n):\n",
    "    complete_rows=0\n",
    "    coins = 1\n",
    "    \n",
    "    while n>=coins:\n",
    "        n-=coins\n",
    "        complete_rows+=1\n",
    "        coins+=1\n",
    "    return complete_rows\n",
    "\n",
    "n=5\n",
    "print(completeRows(n))\n",
    "        "
   ]
  },
  {
   "cell_type": "code",
   "execution_count": 19,
   "id": "e15d1bef-a08e-43ab-9d62-1a45bc36b3ef",
   "metadata": {},
   "outputs": [
    {
     "name": "stdout",
     "output_type": "stream",
     "text": [
      "[0, 1, 9, 16, 100]\n"
     ]
    }
   ],
   "source": [
    "# 6.Ans.\n",
    "\n",
    "def squares(nums):\n",
    "    return sorted(map(lambda x:x**2,nums))\n",
    "nums = [-4,-1,0,3,10]\n",
    "print(squares(nums))\n",
    "    \n",
    "    "
   ]
  },
  {
   "cell_type": "code",
   "execution_count": 25,
   "id": "313cb500-c9de-4f5b-b324-83365d9bc0d9",
   "metadata": {},
   "outputs": [
    {
     "name": "stdout",
     "output_type": "stream",
     "text": [
      "4\n"
     ]
    }
   ],
   "source": [
    "# 7.Ans.\n",
    "\n",
    "def maxcount(m, n, ops):\n",
    "    min_row = m\n",
    "    min_col = n\n",
    "    \n",
    "    for op in ops:\n",
    "        min_row = min(min_row, op[0])\n",
    "        min_col = min(min_col, op[1])\n",
    "    \n",
    "    return min_row * min_col\n",
    "m = 3\n",
    "n = 3\n",
    "ops = [[2,2],[3,3]]\n",
    "print(maxcount(m,n,ops))\n",
    "\n",
    "\n",
    "\n"
   ]
  },
  {
   "cell_type": "code",
   "execution_count": 21,
   "id": "bc9a796f-d1ce-402a-8841-5b6f85a2cdb0",
   "metadata": {},
   "outputs": [
    {
     "name": "stdout",
     "output_type": "stream",
     "text": [
      "[2, 3, 5, 4, 1, 7]\n"
     ]
    }
   ],
   "source": [
    "# 8.Ans.\n",
    "\n",
    "def arrangeArray(nums,n):\n",
    "    ans = []\n",
    "    for i in range(n):\n",
    "        ans.append(nums[i])\n",
    "        ans.append(nums[i+n])\n",
    "    return ans\n",
    "\n",
    "nums = [2,5,1,3,4,7]\n",
    "n = 3\n",
    "\n",
    "print(arrangeArray(nums,n))\n",
    "    \n",
    "\n"
   ]
  },
  {
   "cell_type": "code",
   "execution_count": null,
   "id": "73458c05-e42d-4bfd-9745-2b84428afb89",
   "metadata": {},
   "outputs": [],
   "source": []
  }
 ],
 "metadata": {
  "kernelspec": {
   "display_name": "Python 3 (ipykernel)",
   "language": "python",
   "name": "python3"
  },
  "language_info": {
   "codemirror_mode": {
    "name": "ipython",
    "version": 3
   },
   "file_extension": ".py",
   "mimetype": "text/x-python",
   "name": "python",
   "nbconvert_exporter": "python",
   "pygments_lexer": "ipython3",
   "version": "3.10.6"
  }
 },
 "nbformat": 4,
 "nbformat_minor": 5
}
